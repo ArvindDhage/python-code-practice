{
 "cells": [
  {
   "cell_type": "code",
   "execution_count": null,
   "id": "da34b015-ab95-4e9e-9501-60324aac4934",
   "metadata": {},
   "outputs": [],
   "source": [
    "'''Strings\n",
    "\n",
    "Think of a string as a sequence of characters. It's like a sentence or a word. In Python, you create a string by enclosing characters in quotes. For example, `\"Hello, World!\"` is a string.\n",
    "\n",
    "Operations on Strings:\n",
    "1. Concatenation: Joining two strings together. Like `\"Hello\" + \"World\"` becomes `\"HelloWorld\"`.\n",
    "2. Indexing: Accessing a specific character. For example, in `\"Hello\"`, `H` is at index 0, `e` is at index 1.\n",
    "3. Length:  Finding out how many characters are in the string. For `\"Hello\"`, the length is 5.'''\n"
   ]
  },
  {
   "cell_type": "code",
   "execution_count": null,
   "id": "2efbcdd1-ede2-4412-8983-995c07ef8cae",
   "metadata": {},
   "outputs": [],
   "source": [
    "'''Operations on Strings:\n",
    "1. Concatenation: Joining two strings together. Like `\"Hello\" + \"World\"` becomes `\"HelloWorld\"`.\n",
    "\n",
    "\n",
    "2. Indexing: Accessing a specific character. For example, in `\"Hello\"`, `H` is at index 0, `e` is at index 1.\n",
    "\n",
    "\n",
    "3. Length: Finding out how many characters are in the string. For `\"Hello\"`, the length is     5.\n",
    "\n",
    "'''\n"
   ]
  },
  {
   "cell_type": "code",
   "execution_count": 7,
   "id": "e23f51ba-a43b-4382-b0d0-40c596c8ff3f",
   "metadata": {},
   "outputs": [
    {
     "name": "stdout",
     "output_type": "stream",
     "text": [
      "hellow,world!\n"
     ]
    }
   ],
   "source": [
    "#Example 1: Strings\n",
    "\n",
    "#crating string\n",
    "greeting='hellow,world!'\n",
    "print(greeting)\n",
    "\n",
    "\n"
   ]
  },
  {
   "cell_type": "code",
   "execution_count": 11,
   "id": "803f41d0-2d25-4b5d-9302-353f02f9ae53",
   "metadata": {},
   "outputs": [
    {
     "name": "stdout",
     "output_type": "stream",
     "text": [
      "arvind surname\n"
     ]
    }
   ],
   "source": [
    "#concatenating String\n",
    "name='arvind'\n",
    "surname='dhage'\n",
    "print(name+'','surname')\n"
   ]
  },
  {
   "cell_type": "code",
   "execution_count": 17,
   "id": "3151f2a0-bbd1-4845-8119-ae39edc2ecb5",
   "metadata": {},
   "outputs": [
    {
     "name": "stdout",
     "output_type": "stream",
     "text": [
      "First character: h\n"
     ]
    }
   ],
   "source": [
    "# indexing in string \n",
    "first_char = greeting[0]  # 'H'\n",
    "print(\"First character:\", first_char)\n",
    "\n"
   ]
  },
  {
   "cell_type": "code",
   "execution_count": 18,
   "id": "26730cc0-b518-4f8a-aaa7-afa88cd25bf0",
   "metadata": {},
   "outputs": [
    {
     "name": "stdout",
     "output_type": "stream",
     "text": [
      "First character: h\n"
     ]
    }
   ],
   "source": [
    "first_char = greeting[0]  # 'H'\n",
    "print(\"First character:\", first_char)\n",
    "\n"
   ]
  },
  {
   "cell_type": "code",
   "execution_count": null,
   "id": "1d7e8a1a-f547-4208-a048-2ab2bb38ef94",
   "metadata": {},
   "outputs": [],
   "source": [
    "Lists\n",
    "\n",
    "A list is like a collection of items. Imagine a shopping list where you write down what you need to buy. In Python, a list is created by putting items inside square brackets, like `[1, 2, 3]` or `[\"apple\", \"banana\", \"cherry\"]`.\n",
    "\n",
    "Operations on Lists:\n",
    "1. Adding Items: You can add an item to the list with `.append(item)`.\n",
    "2. Removing Items: You can remove an item with `.remove(item)` or `.pop(index)`.\n",
    "3. Length: Like strings, you can find out the number of items in a list with `len(list)`.\n",
    "4. Indexing and Slicing: You can access and slice lists just like strings."
   ]
  },
  {
   "cell_type": "code",
   "execution_count": null,
   "id": "86eba80e-0ef4-4b1d-828b-097f8084ebc4",
   "metadata": {},
   "outputs": [],
   "source": [
    "1. Adding Items: You can add an item to the list with `.append(item)`.\n",
    "\n",
    "\n",
    "2. Removing Items: You can remove an item with `.remove(item)` or `.pop(index)`.\n",
    "\n",
    "\n",
    "3. Length: Like strings, you can find out the number of items in a list with `len(list)`.\n",
    "\n",
    "\n",
    "4. Indexing : You can access lists just like strings.\n"
   ]
  },
  {
   "cell_type": "code",
   "execution_count": 23,
   "id": "6ec1b314-4c89-4353-b668-404beced15f1",
   "metadata": {},
   "outputs": [
    {
     "name": "stdout",
     "output_type": "stream",
     "text": [
      "Fruits List: ['apple', 'banana', 'cherry']\n",
      "Second Fruit: ['apple', 'banana', 'cherry', 'orange']\n"
     ]
    }
   ],
   "source": [
    "#Example 2: Lists\n",
    "\n",
    "\n",
    "# Creating a list\n",
    "fruits = [\"apple\", \"banana\", \"cherry\"]\n",
    "print(\"Fruits List:\", fruits)\n",
    "\n",
    "# Adding an item to the list\n",
    "fruits.append(\"orange\")\n",
    "print(\"Second Fruit:\", fruits)\n",
    "\n",
    "# Removing an item from the list\n",
    "fruits.remove(\"banana\")\n",
    "\n",
    "\n",
    "# Length of the list\n",
    "length_of_list = len(fruits)  # 3\n",
    "\n",
    "\n",
    "\n",
    "# Indexing\n",
    "second_fruit = fruits[1]  # 'cherry'\n"
   ]
  },
  {
   "cell_type": "code",
   "execution_count": 25,
   "id": "ea40cd15-3894-41e3-8763-57222eaf7d06",
   "metadata": {},
   "outputs": [],
   "source": [
    "fruits = [\"apple\", \"banana\", \"cherry\"]\n",
    "fruits.remove(\"banana\")"
   ]
  },
  {
   "cell_type": "code",
   "execution_count": 28,
   "id": "a9244d6b-81b8-4d24-8bde-63aff11cb777",
   "metadata": {},
   "outputs": [],
   "source": [
    "second_fruit = fruits[1]  # 'cherry'"
   ]
  },
  {
   "cell_type": "code",
   "execution_count": 29,
   "id": "3e1c21bd-715e-4cfe-a553-35d915e14009",
   "metadata": {},
   "outputs": [],
   "source": [
    "length_of_list = len(fruits)  # 3"
   ]
  },
  {
   "cell_type": "code",
   "execution_count": null,
   "id": "f683024a-05d4-480f-8438-4301d35d85c3",
   "metadata": {},
   "outputs": [],
   "source": [
    "Tuples\n",
    "\n",
    "A tuple is similar to a list, but it's fixed. Once you create a tuple, you can't change it. It's like a list that's set in stone. You create a tuple using parentheses, like `(1, 2, 3)` or `(\"a\", \"b\", \"c\")`.\n",
    "\n",
    "Operations on Tuples:\n",
    "1. Indexing and Slicing: You can access and slice tuples like you do with lists and strings.\n",
    "2. Length: You can find the number of items in a tuple with `len(tuple)`.\n",
    "3. Immutability: You can't add or remove items from a tuple once it's created."
   ]
  },
  {
   "cell_type": "code",
   "execution_count": null,
   "id": "215a7fe7-aabd-4f42-928d-6ffbb16477af",
   "metadata": {},
   "outputs": [],
   "source": [
    "1. Indexing: You can access tuples like you do with lists and strings.\n",
    "\n",
    "\n",
    "2. Length: You can find the number of items in a tuple with `len(tuple)`.\n",
    "\n",
    "\n",
    "3. Immutability: You can't add or remove items from a tuple once it's created.\n"
   ]
  },
  {
   "cell_type": "code",
   "execution_count": 30,
   "id": "1a21484b-469f-4cca-bce4-1229a9eb05fe",
   "metadata": {},
   "outputs": [
    {
     "name": "stdout",
     "output_type": "stream",
     "text": [
      "Numbers Tuple: (1, 2, 3, 4, 5)\n",
      "First Element: 10\n",
      "Second Element: 20\n",
      "Last Element: 50\n",
      "Length of Tuple: 5\n"
     ]
    }
   ],
   "source": [
    "#Example 3: Tuples\n",
    "\n",
    "\n",
    "# Creating a tuple\n",
    "numbers = (1, 2, 3, 4, 5)\n",
    "print(\"Numbers Tuple:\", numbers)\n",
    "\n",
    "# Creating a tuple\n",
    "my_tuple = (10, 20, 30, 40, 50)\n",
    "\n",
    "# Accessing elements using indexing\n",
    "first_element = my_tuple[0]  # Accessing the first element (10)\n",
    "second_element = my_tuple[1]  # Accessing the second element (20)\n",
    "last_element = my_tuple[-1]  # Accessing the last element (50)\n",
    "\n",
    "# Print the results\n",
    "print(\"First Element:\", first_element)\n",
    "print(\"Second Element:\", second_element)\n",
    "print(\"Last Element:\", last_element)\n",
    "\n",
    "\n",
    "# Length of the tuple\n",
    "length_of_tuple = len(numbers)  # 5\n",
    "print(\"Length of Tuple:\", length_of_tuple)\n",
    "\n"
   ]
  },
  {
   "cell_type": "code",
   "execution_count": null,
   "id": "36c8ab21-21b0-49ef-bf26-c0ea32377ce2",
   "metadata": {},
   "outputs": [],
   "source": []
  }
 ],
 "metadata": {
  "kernelspec": {
   "display_name": "Python 3 (ipykernel)",
   "language": "python",
   "name": "python3"
  },
  "language_info": {
   "codemirror_mode": {
    "name": "ipython",
    "version": 3
   },
   "file_extension": ".py",
   "mimetype": "text/x-python",
   "name": "python",
   "nbconvert_exporter": "python",
   "pygments_lexer": "ipython3",
   "version": "3.8.19"
  }
 },
 "nbformat": 4,
 "nbformat_minor": 5
}
