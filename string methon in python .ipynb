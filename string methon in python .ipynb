{
 "cells": [
  {
   "cell_type": "code",
   "execution_count": 1,
   "id": "eac91416-1962-462b-a4fb-8e8c8b80af8d",
   "metadata": {},
   "outputs": [
    {
     "name": "stdout",
     "output_type": "stream",
     "text": [
      "Arvind \n"
     ]
    }
   ],
   "source": [
    "#creat a string \n",
    "name=\"Arvind \"\n",
    "print(name)"
   ]
  },
  {
   "cell_type": "code",
   "execution_count": 3,
   "id": "d6034745-b6d4-435a-9399-3c2823654bf4",
   "metadata": {},
   "outputs": [
    {
     "name": "stdout",
     "output_type": "stream",
     "text": [
      "Arvind  Dhage\n"
     ]
    }
   ],
   "source": [
    "# how to add the string  concatenate\n",
    "surname='Dhage'\n",
    "print(name,\"\"+surname)\n"
   ]
  },
  {
   "cell_type": "code",
   "execution_count": 6,
   "id": "7d7c1a4d-81c3-4b2a-8c29-325f9c8c16db",
   "metadata": {},
   "outputs": [
    {
     "data": {
      "text/plain": [
       "'o'"
      ]
     },
     "execution_count": 6,
     "metadata": {},
     "output_type": "execute_result"
    }
   ],
   "source": [
    "# how to accessing a string element \n",
    "language='python'\n",
    "language[4]"
   ]
  },
  {
   "cell_type": "code",
   "execution_count": 7,
   "id": "2ae756bf-800d-44d8-b70a-8a0d3a234025",
   "metadata": {},
   "outputs": [
    {
     "data": {
      "text/plain": [
       "'i love you python'"
      ]
     },
     "execution_count": 7,
     "metadata": {},
     "output_type": "execute_result"
    }
   ],
   "source": [
    "#How to replace a string \n",
    "sentance='i love you java'\n",
    "sentance.replace(\"java\",\"python\")\n",
    "# all about the concept the replace keyword "
   ]
  },
  {
   "cell_type": "code",
   "execution_count": 12,
   "id": "e022464e-9d4e-4b5e-8ff2-dd59d07e2a63",
   "metadata": {},
   "outputs": [
    {
     "name": "stdout",
     "output_type": "stream",
     "text": [
      "6\n"
     ]
    }
   ],
   "source": [
    "#how to find the length of a string \n",
    "coding='python'\n",
    "print(len(coding))"
   ]
  },
  {
   "cell_type": "code",
   "execution_count": 2,
   "id": "695038b3-b93d-4a00-b2fb-2749976406ff",
   "metadata": {},
   "outputs": [
    {
     "name": "stdout",
     "output_type": "stream",
     "text": [
      "Arvind19\n"
     ]
    }
   ],
   "source": [
    "#how to convert a int to string\n",
    "name='Arvind'\n",
    "age=19\n",
    "print(name+str(age))\n"
   ]
  },
  {
   "cell_type": "code",
   "execution_count": 13,
   "id": "cd0ef9d3-ecb4-4f24-8d05-e44d5c46226c",
   "metadata": {},
   "outputs": [
    {
     "name": "stdout",
     "output_type": "stream",
     "text": [
      "arvind dhage\n"
     ]
    }
   ],
   "source": [
    "#practice question \n",
    "'''Task: Create two variables, `first_name` and `last_name`. Assign your first name to \n",
    "`first_name` and your last name to `last_name`. Then, concatenate these two variables to\n",
    "form a full name and print it. Add a space between the first name and last name.'''\n",
    "first_name = 'arvind'\n",
    "last_name='dhage'\n",
    "print(first_name,''+last_name)\n",
    "\n"
   ]
  },
  {
   "cell_type": "code",
   "execution_count": 14,
   "id": "b5f95cf6-2245-497e-9534-2c9b398c0ebd",
   "metadata": {},
   "outputs": [
    {
     "data": {
      "text/plain": [
       "'I love coding in python'"
      ]
     },
     "execution_count": 14,
     "metadata": {},
     "output_type": "execute_result"
    }
   ],
   "source": [
    "'''Task: You have a string variable `sentence` that contains the text \"I love coding in C++\".\n",
    "Replace \"C++\" with \"Python\" in this string and print the new string.'''\n",
    "sentance='I love coding in c++'\n",
    "sentance.replace('c++','python')\n"
   ]
  },
  {
   "cell_type": "code",
   "execution_count": 20,
   "id": "0669659e-3829-4599-a7e4-3863467da0e3",
   "metadata": {},
   "outputs": [
    {
     "name": "stdout",
     "output_type": "stream",
     "text": [
      "p\n",
      "g\n",
      "11\n"
     ]
    }
   ],
   "source": [
    "'''Task: Given the string `word = \"Programming\"`, perform the following:\n",
    "   1. Print the first character of the string.\n",
    "   2. Print the last character of the string.\n",
    "   3. Print the length of the string.'''\n",
    "\n",
    "word=\"programming\"\n",
    "print(word[0])\n",
    "print(word[10])\n",
    "print(len(word))\n"
   ]
  },
  {
   "cell_type": "code",
   "execution_count": null,
   "id": "2043aa60-4260-464f-adbc-a82e0b93b62f",
   "metadata": {},
   "outputs": [],
   "source": []
  }
 ],
 "metadata": {
  "kernelspec": {
   "display_name": "Python 3 (ipykernel)",
   "language": "python",
   "name": "python3"
  },
  "language_info": {
   "codemirror_mode": {
    "name": "ipython",
    "version": 3
   },
   "file_extension": ".py",
   "mimetype": "text/x-python",
   "name": "python",
   "nbconvert_exporter": "python",
   "pygments_lexer": "ipython3",
   "version": "3.8.19"
  }
 },
 "nbformat": 4,
 "nbformat_minor": 5
}
