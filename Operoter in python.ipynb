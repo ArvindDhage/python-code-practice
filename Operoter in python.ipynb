{
 "cells": [
  {
   "cell_type": "code",
   "execution_count": 1,
   "id": "28250220-8cf9-4d84-b170-8ee909ae62fa",
   "metadata": {},
   "outputs": [
    {
     "name": "stdout",
     "output_type": "stream",
     "text": [
      "25\n"
     ]
    }
   ],
   "source": [
    "#arithmatic operoter\n",
    "a=5\n",
    "b=5\n",
    "print(a*b)"
   ]
  },
  {
   "cell_type": "markdown",
   "id": "e7e3099b-1f23-4770-a781-721730468a8c",
   "metadata": {},
   "source": [
    "'''Operators are special symbol that perform operations on veriables and value'''"
   ]
  },
  {
   "cell_type": "markdown",
   "id": "d8a2fce2-c2fe-4e76-b571-2f024e75696b",
   "metadata": {},
   "source": [
    "1-Arithmetic operators\n",
    "2-Assignment operator\n",
    "3-comparison operator\n",
    "4-logical operator\n",
    "5-Bitwise operator\n",
    "6-Identity operator\n",
    "7-Membership operator "
   ]
  },
  {
   "cell_type": "markdown",
   "id": "40e2e436-016f-4738-92b5-e702f5290064",
   "metadata": {},
   "source": [
    "1-Arithmetic operator\n",
    "These operator are used with numeric values to perform common mathematical operation"
   ]
  },
  {
   "cell_type": "code",
   "execution_count": 2,
   "id": "33c4b652-4900-48d9-a3cb-f8f90937d0ae",
   "metadata": {},
   "outputs": [
    {
     "name": "stdout",
     "output_type": "stream",
     "text": [
      "25\n",
      "15\n",
      "100\n",
      "4.0\n",
      "4\n",
      "0\n"
     ]
    }
   ],
   "source": [
    "#1-Arithmetic operator\n",
    "a=20\n",
    "b=5\n",
    "print(a+b) # addition operator -> add tow operands\n",
    "print(a-b) #Subtraction operator->substract the second operand from first operand\n",
    "print(a*b) #Multiplaction operator->multiply two operand\n",
    "print(a/b)#division operator-> divides the first opeand by second operand\n",
    "print(a//b)#floor division operator-> it diveds the first by the second and then rounds.\n",
    "           #the result down to the nearst whole number.\n",
    "#\n",
    "print(a%b)#moduls operator _>return the remainder."
   ]
  },
  {
   "cell_type": "code",
   "execution_count": 4,
   "id": "b99fe1e5-2dfd-47fb-90f5-003e611913b8",
   "metadata": {},
   "outputs": [
    {
     "name": "stdout",
     "output_type": "stream",
     "text": [
      "False\n",
      "True\n",
      "False\n",
      "True\n",
      "False\n",
      "True\n"
     ]
    }
   ],
   "source": [
    "#2-Comparison operator->these  operator compare the value\n",
    "a=1\n",
    "b=2\n",
    "print(a==b)# equal to\n",
    "print(a!=b)# not equal two\n",
    "print(a>b)#grater than \n",
    "print(a<b)#lesser than\n",
    "print(a>=b)#grater than equal two\n",
    "print(a<=b)#lesser than equal "
   ]
  },
  {
   "cell_type": "code",
   "execution_count": 5,
   "id": "b3a95713-2c60-4222-bdac-ec4e67039730",
   "metadata": {},
   "outputs": [
    {
     "name": "stdout",
     "output_type": "stream",
     "text": [
      "True\n",
      "True\n",
      "False\n"
     ]
    }
   ],
   "source": [
    "#4-logical operator ->Used to combine conditional statements and ,or ,not \n",
    "a=5\n",
    "b=6\n",
    "print(a>4 and b>4) # and operator all condition are true then return true otherwise false\n",
    "print(a<b or b>4)  # or operator any one condition are true then return true otherwise false\n",
    "print(not(a>4 and b>4))# not operator are conver in opposite format "
   ]
  },
  {
   "cell_type": "markdown",
   "id": "bbf53419-b34f-405b-a8a3-648a8cabfc6d",
   "metadata": {},
   "source": [
    "#Assignment Operators: From = to += and beyond – Get to grips with assigning and modifying values like a pro.\n",
    "1-basic assignment operator =\n",
    "2-Addition assignment +=\n",
    "3-subtraction assignment -=\n",
    "4-multiplaction assignment *=\n",
    "5-division assignment /=\n",
    "6-modules assignment %=\n",
    "7-exponent assignment *=\n",
    "8-flower division assignment //=\n",
    "\n",
    "\n"
   ]
  },
  {
   "cell_type": "code",
   "execution_count": 7,
   "id": "2374bd08-e0cf-466a-9851-3cf9940f1e8b",
   "metadata": {},
   "outputs": [
    {
     "name": "stdout",
     "output_type": "stream",
     "text": [
      "15\n",
      "10\n",
      "50\n",
      "10.0\n",
      "0.0\n",
      "0.0\n",
      "0.0\n"
     ]
    }
   ],
   "source": [
    "#1-basic assignment operator =\n",
    "a=10\n",
    "#2-Addition assignment +=\n",
    "a=10\n",
    "a+=5\n",
    "print(a)\n",
    "#3-subtraction assignment -=\n",
    "a-=5\n",
    "print(a)\n",
    "#4-multiplaction assignment *=\n",
    "a*=5\n",
    "print(a)\n",
    "#5-division assignment /=\n",
    "a/=5\n",
    "print(a)\n",
    "#6-modules assignment %=\n",
    "a%=5\n",
    "print(a)\n",
    "#7-exponent assignment *=\n",
    "a*=5\n",
    "print(a)\n",
    "#8-flower division assignment //=\n",
    "a//=5\n",
    "print(a)"
   ]
  },
  {
   "cell_type": "code",
   "execution_count": 9,
   "id": "884e638c-33ae-46c2-a00e-25bd0a1bef48",
   "metadata": {},
   "outputs": [
    {
     "name": "stdout",
     "output_type": "stream",
     "text": [
      "False\n",
      "True\n"
     ]
    }
   ],
   "source": [
    "# Identity operator -> used to compare the memory location of two object \n",
    "#-is \n",
    "#-is not \n",
    "\n",
    "a=10\n",
    "b=20\n",
    "print(a is b)\n",
    "print(a is not b)\n"
   ]
  },
  {
   "cell_type": "code",
   "execution_count": 15,
   "id": "721c1785-ffa3-44e8-9edd-e4da0912c8d9",
   "metadata": {},
   "outputs": [
    {
     "name": "stdout",
     "output_type": "stream",
     "text": [
      "True\n",
      "False\n"
     ]
    }
   ],
   "source": [
    "#Membershp Operator->used to test if asequence is presented in an object \n",
    "#-in \n",
    "#not in \n",
    "\n",
    "list=[1,2,3,4]\n",
    "print(3 in list)\n",
    "print( 3 not in list) \n"
   ]
  },
  {
   "cell_type": "code",
   "execution_count": null,
   "id": "314f392c-aca1-4553-9eb2-3f8ef5de940f",
   "metadata": {},
   "outputs": [],
   "source": []
  }
 ],
 "metadata": {
  "kernelspec": {
   "display_name": "Python 3 (ipykernel)",
   "language": "python",
   "name": "python3"
  },
  "language_info": {
   "codemirror_mode": {
    "name": "ipython",
    "version": 3
   },
   "file_extension": ".py",
   "mimetype": "text/x-python",
   "name": "python",
   "nbconvert_exporter": "python",
   "pygments_lexer": "ipython3",
   "version": "3.8.19"
  }
 },
 "nbformat": 4,
 "nbformat_minor": 5
}
