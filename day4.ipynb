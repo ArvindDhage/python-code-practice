{
 "cells": [
  {
   "cell_type": "code",
   "execution_count": 5,
   "id": "f3d5e65d-bcc2-4d10-b90f-ac8aa46fca56",
   "metadata": {},
   "outputs": [
    {
     "name": "stdout",
     "output_type": "stream",
     "text": [
      "50\n"
     ]
    }
   ],
   "source": [
    "Var = [\"Arvind\", \"github\", \"letcode\"]\n",
    "print(Var)"
   ]
  },
  {
   "cell_type": "code",
   "execution_count": 4,
   "id": "77b05b68-7b53-44a2-8872-75953be55ff6",
   "metadata": {},
   "outputs": [
    {
     "name": "stdout",
     "output_type": "stream",
     "text": [
      "The list after append() operation is:  [1, 2, 3, 9, 8]\n"
     ]
    }
   ],
   "source": [
    "my_list=[1,2,3]\n",
    "my_list.append(9)\n",
    "my_list.append(8)\n",
    "print(\"The list after append() operation is: \",my_list)"
   ]
  },
  {
   "cell_type": "code",
   "execution_count": 5,
   "id": "3275125c-2cf6-4ebd-a3fd-6ea30d557214",
   "metadata": {},
   "outputs": [
    {
     "name": "stdout",
     "output_type": "stream",
     "text": [
      "The list after insert() operator is: \n",
      " [1, 2, 3, 9, 8, 30]\n"
     ]
    }
   ],
   "source": [
    "my_list.insert(5,30)\n",
    "print(\"The list after insert() operator is: \\n\",my_list)"
   ]
  },
  {
   "cell_type": "code",
   "execution_count": 8,
   "id": "51b5cb21-21b5-4644-b3db-166a7b9ce8ba",
   "metadata": {},
   "outputs": [
    {
     "name": "stdout",
     "output_type": "stream",
     "text": [
      "Length of the list is:  6\n",
      "Maximum element in the list is:  30\n",
      "Minimum element in the list is:  1\n"
     ]
    }
   ],
   "source": [
    "print(\"Length of the list is: \",len(my_list))\n",
    "print(\"Maximum element in the list is: \",max(my_list))\n",
    "print(\"Minimum element in the list is: \",min(my_list))"
   ]
  },
  {
   "cell_type": "code",
   "execution_count": 9,
   "id": "65786d6a-3fe9-44c3-afa3-16af8403a3a0",
   "metadata": {},
   "outputs": [
    {
     "name": "stdout",
     "output_type": "stream",
     "text": [
      "The list is: \n",
      " [1, 2, 3, 9, 8, 30, 10, 20, 22]\n",
      "Number of times 21 is in the list are:  1\n"
     ]
    }
   ],
   "source": [
    "my_list.extend([10,20,22])\n",
    "print(\"The list is: \\n\",my_list)\n",
    "print(\"Number of times 21 is in the list are: \",my_list.count(20))"
   ]
  },
  {
   "cell_type": "code",
   "execution_count": 10,
   "id": "4ffbb865-c787-4e2e-8b4a-bc88b3892f1e",
   "metadata": {},
   "outputs": [
    {
     "name": "stdout",
     "output_type": "stream",
     "text": [
      "[100, 150, 200, 900, 950, 800]\n"
     ]
    }
   ],
   "source": [
    "list_one = [100, 150, 200]\n",
    "list_two = [900, 950, 800]\n",
    "new_list = list_one + list_two   #new_list variable holds the concatenated list\n",
    "print(new_list)"
   ]
  },
  {
   "cell_type": "code",
   "execution_count": null,
   "id": "037f35bc-3edf-45ec-af04-a6f897f239e9",
   "metadata": {},
   "outputs": [],
   "source": []
  }
 ],
 "metadata": {
  "kernelspec": {
   "display_name": "Python 3 (ipykernel)",
   "language": "python",
   "name": "python3"
  },
  "language_info": {
   "codemirror_mode": {
    "name": "ipython",
    "version": 3
   },
   "file_extension": ".py",
   "mimetype": "text/x-python",
   "name": "python",
   "nbconvert_exporter": "python",
   "pygments_lexer": "ipython3",
   "version": "3.8.19"
  }
 },
 "nbformat": 4,
 "nbformat_minor": 5
}
