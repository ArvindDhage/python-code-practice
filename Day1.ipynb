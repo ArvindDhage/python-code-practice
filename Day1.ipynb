{
 "cells": [
  {
   "cell_type": "code",
   "execution_count": 1,
   "id": "eb4413fb-2e53-43a6-a5b7-d1e427ec4a03",
   "metadata": {},
   "outputs": [
    {
     "name": "stdout",
     "output_type": "stream",
     "text": [
      "50\n"
     ]
    }
   ],
   "source": [
    "#Add tow number predefine veriables\n",
    "num1=20\n",
    "num2=30\n",
    "print(num1+num2)\n"
   ]
  },
  {
   "cell_type": "code",
   "execution_count": 5,
   "id": "c37b38e9-7bd9-4759-ac56-27ce80641754",
   "metadata": {},
   "outputs": [
    {
     "name": "stdin",
     "output_type": "stream",
     "text": [
      "Enter first number 10\n",
      "Enter second number 20\n"
     ]
    },
    {
     "name": "stdout",
     "output_type": "stream",
     "text": [
      "30\n"
     ]
    }
   ],
   "source": [
    "#Add two number user defined veriables\n",
    "num1=int(input(\"Enter first number\"))\n",
    "num2=int(input(\"Enter second number\"))\n",
    "\n",
    "print(num1+num2)\n"
   ]
  },
  {
   "cell_type": "code",
   "execution_count": 6,
   "id": "df7fdf62-e1b2-4e38-85af-655786668f7c",
   "metadata": {},
   "outputs": [
    {
     "name": "stdout",
     "output_type": "stream",
     "text": [
      "Hello world\n"
     ]
    }
   ],
   "source": [
    "#Write a program hellow world\n",
    "print(\"Hello world\")"
   ]
  },
  {
   "cell_type": "code",
   "execution_count": 11,
   "id": "1460bc2e-de97-449e-91a4-17f3f547b4c9",
   "metadata": {},
   "outputs": [],
   "source": [
    "#Find the square root of any number\n",
    "import math"
   ]
  },
  {
   "cell_type": "code",
   "execution_count": 12,
   "id": "b853691d-5310-4f1b-9a87-4e61cdceeac1",
   "metadata": {},
   "outputs": [
    {
     "name": "stdin",
     "output_type": "stream",
     "text": [
      "Enter the number :- 25\n"
     ]
    },
    {
     "name": "stdout",
     "output_type": "stream",
     "text": [
      "5.0\n"
     ]
    }
   ],
   "source": [
    "#Find the square root of any number\n",
    "a=int(input(\"Enter the number :-\"))\n",
    "res=math.sqrt(a)\n",
    "print(res)"
   ]
  },
  {
   "cell_type": "code",
   "execution_count": 13,
   "id": "05697810-2488-40f2-b039-525291951869",
   "metadata": {},
   "outputs": [
    {
     "name": "stdin",
     "output_type": "stream",
     "text": [
      "Enter the length of a trangle  10\n",
      "enter thr brith of a trangle  20\n"
     ]
    },
    {
     "name": "stdout",
     "output_type": "stream",
     "text": [
      "area of rectangle is : 200\n"
     ]
    }
   ],
   "source": [
    "#Find the area of rectangle \n",
    "l=int(input(\"Enter the length of a trangle \"))\n",
    "b=int(input(\"enter thr brith of a trangle \"))\n",
    "print(\"area of rectangle is :\",(l*b))\n"
   ]
  },
  {
   "cell_type": "code",
   "execution_count": 17,
   "id": "19b1789a-4171-4ee8-863c-be924e6b5245",
   "metadata": {},
   "outputs": [
    {
     "name": "stdin",
     "output_type": "stream",
     "text": [
      "Enter the name of student  Arvind \n",
      "Enter the roll number of student 20\n",
      "Enter the id of student  520\n",
      "Enter the class of student 10\n"
     ]
    },
    {
     "name": "stdout",
     "output_type": "stream",
     "text": [
      "Student name is  Arvind \n",
      "Student roll number is  20\n",
      "Student id is  520\n",
      "Student class is  10\n"
     ]
    }
   ],
   "source": [
    "#gatting a data student roll name id class print all the data\n",
    "name=str(input(\"Enter the name of student \"))\n",
    "roll=int(input(\"Enter the roll number of student\"))\n",
    "id=int(input(\"Enter the id of student \"))\n",
    "cla=int(input(\"Enter the class of student\"))\n",
    "#print all the data \n",
    "print(\"Student name is \",name)\n",
    "print(\"Student roll number is \",roll)\n",
    "print(\"Student id is \",id)\n",
    "print(\"Student class is \",cla)\n",
    "\n"
   ]
  },
  {
   "cell_type": "code",
   "execution_count": 32,
   "id": "95b080a5-6823-425c-8c1c-aaee1cca35dc",
   "metadata": {},
   "outputs": [
    {
     "name": "stdout",
     "output_type": "stream",
     "text": [
      "30\n",
      "20\n"
     ]
    }
   ],
   "source": [
    "#SWAP A TWO VERIABLE INPYTHON\n",
    "a=20\n",
    "b=30\n",
    "\n",
    "temp=a\n",
    "a=b\n",
    "b=temp\n",
    "\n",
    "print(a)\n",
    "print(b)"
   ]
  },
  {
   "cell_type": "code",
   "execution_count": 34,
   "id": "477e9a83-c364-4f8e-858f-95e8cdb71ff5",
   "metadata": {},
   "outputs": [
    {
     "name": "stdin",
     "output_type": "stream",
     "text": [
      "Enter your value: 5\n"
     ]
    },
    {
     "name": "stdout",
     "output_type": "stream",
     "text": [
      "5.0 Km in miles will be  3.106855 miles\n"
     ]
    }
   ],
   "source": [
    "#Python Program to Convert Kilometers to Miles\n",
    "km=float(input(\"Enter your value:\"))\n",
    "miles=(0.621371)*km\n",
    "print(km,\"Km in miles will be \",miles,\"miles\")"
   ]
  },
  {
   "cell_type": "code",
   "execution_count": null,
   "id": "96bb88b7-713f-464b-b5ca-ed1a72c31928",
   "metadata": {},
   "outputs": [],
   "source": []
  }
 ],
 "metadata": {
  "kernelspec": {
   "display_name": "Python 3 (ipykernel)",
   "language": "python",
   "name": "python3"
  },
  "language_info": {
   "codemirror_mode": {
    "name": "ipython",
    "version": 3
   },
   "file_extension": ".py",
   "mimetype": "text/x-python",
   "name": "python",
   "nbconvert_exporter": "python",
   "pygments_lexer": "ipython3",
   "version": "3.8.19"
  }
 },
 "nbformat": 4,
 "nbformat_minor": 5
}
