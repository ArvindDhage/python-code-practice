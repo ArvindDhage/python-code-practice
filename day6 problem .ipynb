{
 "cells": [
  {
   "cell_type": "code",
   "execution_count": 24,
   "id": "e49c554b-38e6-4b4c-a423-269045497c67",
   "metadata": {},
   "outputs": [
    {
     "name": "stdout",
     "output_type": "stream",
     "text": [
      "Enter a number :\n"
     ]
    },
    {
     "name": "stdin",
     "output_type": "stream",
     "text": [
      " 20\n"
     ]
    },
    {
     "name": "stdout",
     "output_type": "stream",
     "text": [
      "20 is even\n"
     ]
    }
   ],
   "source": [
    "print(\"Enter a number :\")\n",
    "num=int(input())\n",
    "if num%2==0:\n",
    "    print(num,\"is even\")\n",
    "else:\n",
    "    print(num,\"is odd\")"
   ]
  },
  {
   "cell_type": "code",
   "execution_count": 20,
   "id": "d2f9f361-e1a6-4605-b3fe-b4c57dee55c7",
   "metadata": {},
   "outputs": [
    {
     "name": "stdout",
     "output_type": "stream",
     "text": [
      "(0, 1, 2, 3, 4, 5, 6, 7, 8, 9)\n"
     ]
    }
   ],
   "source": [
    "a=tuple(range(10))\n",
    "print(a)"
   ]
  },
  {
   "cell_type": "code",
   "execution_count": 22,
   "id": "b2bfb4f8-e23f-4007-b4e6-5fc5366b2c94",
   "metadata": {},
   "outputs": [
    {
     "name": "stdout",
     "output_type": "stream",
     "text": [
      "[15, 16, 17, 18, 19]\n"
     ]
    }
   ],
   "source": [
    "a=list(range(15,20))\n",
    "print(a)\n"
   ]
  },
  {
   "cell_type": "code",
   "execution_count": 25,
   "id": "346632d6-54be-4b70-b12b-a6a53323686d",
   "metadata": {},
   "outputs": [
    {
     "name": "stdout",
     "output_type": "stream",
     "text": [
      "List contain 10\n",
      "List dose not contain 20\n"
     ]
    }
   ],
   "source": [
    "list1=[10,40,20.555,\"Arvind\",100]\n",
    "if 10 in list1:\n",
    "    print(\"List contain 10\")\n",
    "else:\n",
    "    print(\"List dose not contain 10\")\n",
    "if 20 in list1 :\n",
    "    print(\"List contain 20\")\n",
    "else:\n",
    "    print(\"List dose not contain 20\")"
   ]
  },
  {
   "cell_type": "code",
   "execution_count": 29,
   "id": "8da2daa7-8384-4a0d-891b-a37ea6e3a91a",
   "metadata": {},
   "outputs": [
    {
     "name": "stdin",
     "output_type": "stream",
     "text": [
      "Enter a alphabhet a\n"
     ]
    },
    {
     "name": "stdout",
     "output_type": "stream",
     "text": [
      "a :Alphabet is vowel\n"
     ]
    }
   ],
   "source": [
    "alp=str(input(\"Enter a alphabhet\"))\n",
    "if alp.lower() in ('a','e','i','o','u'):\n",
    "    print(alp,\":Alphabet is vowel\")\n",
    "elif alp.upper() in ('A','E','I','O','U'):\n",
    "    print(alp,\":Alphabet is VOWEL\")\n",
    "else:\n",
    "    print(alp,\":Consonant\")"
   ]
  }
 ],
 "metadata": {
  "kernelspec": {
   "display_name": "Python 3 (ipykernel)",
   "language": "python",
   "name": "python3"
  },
  "language_info": {
   "codemirror_mode": {
    "name": "ipython",
    "version": 3
   },
   "file_extension": ".py",
   "mimetype": "text/x-python",
   "name": "python",
   "nbconvert_exporter": "python",
   "pygments_lexer": "ipython3",
   "version": "3.8.19"
  }
 },
 "nbformat": 4,
 "nbformat_minor": 5
}
