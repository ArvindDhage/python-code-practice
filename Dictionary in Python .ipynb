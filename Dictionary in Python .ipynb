{
 "cells": [
  {
   "cell_type": "code",
   "execution_count": null,
   "id": "6a1b9b99-d1ba-4c06-82f8-6f7eea89944e",
   "metadata": {},
   "outputs": [],
   "source": [
    "What is a Dictionary in Python?\n",
    "Imagine you have a real-world address book where you keep your friends' names and their phone numbers.\n",
    "In Python, a dictionary works quite similarly. \n",
    "It stores data in pairs: a 'key' and a 'value'. The 'key' is like your friend's name, and the 'value' is like their phone number.\n"
   ]
  },
  {
   "cell_type": "code",
   "execution_count": null,
   "id": "63ea159e-3e89-4756-b1f5-569dcbb56f61",
   "metadata": {},
   "outputs": [],
   "source": [
    "➕Operations You Can Do with a Dictionary\n",
    "1. Create: Make a new dictionary.\n",
    "2. Read: Look up a value using its key.\n",
    "3. Update: Change the value associated with a key.\n",
    "4. Delete: Remove a key-value pair.\n"
   ]
  },
  {
   "cell_type": "code",
   "execution_count": null,
   "id": "5e7bac14-f002-4a49-903e-09d143743fbb",
   "metadata": {},
   "outputs": [],
   "source": [
    "Real-World Indian Example\n",
    "Suppose you're keeping track of different spices and their prices in rupees.\n",
    "\n",
    "spices = {\n",
    "    \"Turmeric\": 80,\n",
    "    \"Cumin\": 60,\n",
    "    \"Cardamom\": 100\n",
    "}\n",
    "\n",
    "Here, \"Turmeric\", \"Cumin\", and \"Cardamom\" are keys, and 80, 60, and 100 are their respective values.\n",
    "\n"
   ]
  },
  {
   "cell_type": "code",
   "execution_count": 3,
   "id": "78f285f6-3c86-4bc3-b3d2-1e0f72e0b523",
   "metadata": {},
   "outputs": [
    {
     "name": "stdout",
     "output_type": "stream",
     "text": [
      "{'Mango': 50, 'Banana': 20, 'Apple': 80}\n"
     ]
    }
   ],
   "source": [
    "#Practice Python Code\n",
    "#Let's write some basic code for operations. Remember, we won't use loops or if-else statements.\n",
    "fruits = {\"Mango\": 50, \"Banana\": 20, \"Apple\": 80}\n",
    "print(fruits)"
   ]
  },
  {
   "cell_type": "code",
   "execution_count": 5,
   "id": "c7d2afe1-034e-49ec-9c25-03ccae19dd07",
   "metadata": {},
   "outputs": [
    {
     "name": "stdout",
     "output_type": "stream",
     "text": [
      "50\n"
     ]
    }
   ],
   "source": [
    "#Read a value\n",
    "print(fruits[\"Mango\"]) # this will print the price of mango "
   ]
  },
  {
   "cell_type": "code",
   "execution_count": 7,
   "id": "e7ad9de8-a5c0-4378-bdfa-cbcebf8b37fc",
   "metadata": {},
   "outputs": [
    {
     "name": "stdout",
     "output_type": "stream",
     "text": [
      "{'Mango': 50, 'Banana': 25, 'Apple': 80}\n"
     ]
    }
   ],
   "source": [
    "#Update value \n",
    "fruits['Banana']=25 #changing the value of banana\n",
    "print(fruits)"
   ]
  },
  {
   "cell_type": "code",
   "execution_count": 8,
   "id": "33f71523-23d0-49b3-a9fe-050ca12004fa",
   "metadata": {},
   "outputs": [],
   "source": [
    "#Deletr a key value pair\n",
    "del fruits['Apple']#Removing Apple from the destionary "
   ]
  },
  {
   "cell_type": "code",
   "execution_count": 9,
   "id": "539c36c0-54ad-4de5-b0c5-4e404ab635f5",
   "metadata": {},
   "outputs": [
    {
     "name": "stdout",
     "output_type": "stream",
     "text": [
      "{'Mango': 50, 'Banana': 25}\n"
     ]
    }
   ],
   "source": [
    "print(fruits)"
   ]
  },
  {
   "cell_type": "code",
   "execution_count": 10,
   "id": "d17f0baa-3ee0-4e5b-88b7-8e9ab14db230",
   "metadata": {},
   "outputs": [
    {
     "name": "stdout",
     "output_type": "stream",
     "text": [
      "2\n"
     ]
    }
   ],
   "source": [
    "#leanth \n",
    "print(len(fruits))"
   ]
  },
  {
   "cell_type": "code",
   "execution_count": 11,
   "id": "dde52f04-631f-477f-bac6-a3d29100c2bc",
   "metadata": {},
   "outputs": [],
   "source": [
    "#how to clear all the element on in the distonary \n",
    "fruits.clear()"
   ]
  },
  {
   "cell_type": "code",
   "execution_count": 12,
   "id": "c4e66ee1-345d-4463-8040-bd22ec01738d",
   "metadata": {},
   "outputs": [
    {
     "name": "stdout",
     "output_type": "stream",
     "text": [
      "{}\n"
     ]
    }
   ],
   "source": [
    "print(fruits)"
   ]
  },
  {
   "cell_type": "code",
   "execution_count": 17,
   "id": "3c8206c0-7091-4250-995f-b90951729f50",
   "metadata": {},
   "outputs": [
    {
     "name": "stdout",
     "output_type": "stream",
     "text": [
      "{'Car': 'red', 'Bike': 'black', 'Auto': 'blue'}\n"
     ]
    }
   ],
   "source": [
    "#Problem solving\n",
    "'''Create a dictionary named `vehicles` where the keys are different types of vehicles like \"Car\", \"Bike\", \"Auto\", \n",
    "and the values are their colors.'''\n",
    "\n",
    "vehicles={'Car':'red','Bike': 'black','Auto': 'blue'}\n",
    "print(vehicles)\n"
   ]
  },
  {
   "cell_type": "code",
   "execution_count": 20,
   "id": "d843fc34-70c0-44f1-a8a4-263376b88548",
   "metadata": {},
   "outputs": [
    {
     "name": "stdout",
     "output_type": "stream",
     "text": [
      "{'Car': 'red', 'Bike': 'green', 'Auto': 'blue'}\n"
     ]
    }
   ],
   "source": [
    " #Update the color of \"Bike\" in the `vehicles` dictionary to a color of your choice.\n",
    "vehicles['Bike']='green'\n",
    "print(vehicles)"
   ]
  },
  {
   "cell_type": "code",
   "execution_count": null,
   "id": "8f75c12d-1107-45f8-aeb0-38735e0eb6d4",
   "metadata": {},
   "outputs": [],
   "source": [
    "#"
   ]
  }
 ],
 "metadata": {
  "kernelspec": {
   "display_name": "Python 3 (ipykernel)",
   "language": "python",
   "name": "python3"
  },
  "language_info": {
   "codemirror_mode": {
    "name": "ipython",
    "version": 3
   },
   "file_extension": ".py",
   "mimetype": "text/x-python",
   "name": "python",
   "nbconvert_exporter": "python",
   "pygments_lexer": "ipython3",
   "version": "3.10.16"
  }
 },
 "nbformat": 4,
 "nbformat_minor": 5
}
