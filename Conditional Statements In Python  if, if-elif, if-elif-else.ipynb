{
 "cells": [
  {
   "cell_type": "code",
   "execution_count": null,
   "id": "fe9e0d97-5d89-400f-8c64-2cf2f951200b",
   "metadata": {},
   "outputs": [],
   "source": [
    "''' Comntrol statment are statement which control or change the flow of execution .'''\n",
    "'''conditional Statment type \n",
    "1- if statment \n",
    "2-if elif \n",
    "3-if elif else\n",
    "\n",
    "4-while loop\n",
    "5-for loop\n",
    "6-breck statment \n",
    "7-continu statment \n",
    "8-pass\n",
    "9-assert statment \n",
    "10-return statment '''"
   ]
  },
  {
   "cell_type": "code",
   "execution_count": 3,
   "id": "35ef4312-f9a1-430c-8e6f-cade48bb87d8",
   "metadata": {},
   "outputs": [
    {
     "name": "stdout",
     "output_type": "stream",
     "text": [
      "Grater\n"
     ]
    }
   ],
   "source": [
    "''' Syntax if condation\n",
    "if condation:\n",
    "   statment \n",
    "   '''\n",
    "if 2>1:\n",
    "    print('Grater')"
   ]
  },
  {
   "cell_type": "code",
   "execution_count": 6,
   "id": "a2e43ad3-4867-4076-a6fe-709fdc8d10a0",
   "metadata": {},
   "outputs": [
    {
     "name": "stdin",
     "output_type": "stream",
     "text": [
      "Enter a number = 2\n"
     ]
    },
    {
     "name": "stdout",
     "output_type": "stream",
     "text": [
      "Positive\n"
     ]
    }
   ],
   "source": [
    "# problem positive number \n",
    "number=int(input(\"Enter a number =\"))\n",
    "if number >=0:\n",
    "    print(\"Positive\")\n",
    "    "
   ]
  },
  {
   "cell_type": "code",
   "execution_count": 7,
   "id": "d0cd0763-4f55-494b-8e79-a0400bd36440",
   "metadata": {},
   "outputs": [
    {
     "name": "stdin",
     "output_type": "stream",
     "text": [
      "Enter a number = -9\n"
     ]
    },
    {
     "name": "stdout",
     "output_type": "stream",
     "text": [
      "Negative\n"
     ]
    }
   ],
   "source": [
    "''' else :\n",
    "        statment '''\n",
    "\n",
    "# problem positive number  addiding else \n",
    "number=int(input(\"Enter a number =\"))\n",
    "if number >=0:\n",
    "    print(\"Positive\")\n",
    "else:\n",
    "    print(\"Negative\")\n",
    "    \n",
    "    "
   ]
  },
  {
   "cell_type": "code",
   "execution_count": 12,
   "id": "f1b01df9-ddab-4191-9f78-200b9bf5203f",
   "metadata": {},
   "outputs": [
    {
     "name": "stdin",
     "output_type": "stream",
     "text": [
      "Enter the total shopping ammount + 500\n"
     ]
    },
    {
     "name": "stdout",
     "output_type": "stream",
     "text": [
      "You are not eligible\n"
     ]
    }
   ],
   "source": [
    "#problem \n",
    "\n",
    "total=int(input(\"Enter the total shopping ammount +\"))\n",
    "\n",
    "if total>=10000:\n",
    "    print(\"You are eligible\")\n",
    "else:\n",
    "    print(\"You are not eligible\")"
   ]
  },
  {
   "cell_type": "code",
   "execution_count": 14,
   "id": "f10cf705-23d2-4bfb-a426-4181fab8a9e6",
   "metadata": {},
   "outputs": [
    {
     "name": "stdin",
     "output_type": "stream",
     "text": [
      "Enter the total shopping ammount + 100\n"
     ]
    },
    {
     "name": "stdout",
     "output_type": "stream",
     "text": [
      "You are not eligible\n"
     ]
    }
   ],
   "source": [
    "#addiding elif statment \n",
    "total=int(input(\"Enter the total shopping ammount +\"))\n",
    "\n",
    "if total>=10000:\n",
    "    print(\"You are eligible\")\n",
    "\n",
    "elif total >=1 and total <=9999:\n",
    "    print(\"You are not eligible\")\n",
    "else:\n",
    "    print(\"Re-enter right ammount\")"
   ]
  },
  {
   "cell_type": "code",
   "execution_count": null,
   "id": "15cd5de4-4333-4967-ac70-ad07e4e0cb95",
   "metadata": {},
   "outputs": [],
   "source": []
  }
 ],
 "metadata": {
  "kernelspec": {
   "display_name": "Python 3 (ipykernel)",
   "language": "python",
   "name": "python3"
  },
  "language_info": {
   "codemirror_mode": {
    "name": "ipython",
    "version": 3
   },
   "file_extension": ".py",
   "mimetype": "text/x-python",
   "name": "python",
   "nbconvert_exporter": "python",
   "pygments_lexer": "ipython3",
   "version": "3.10.16"
  }
 },
 "nbformat": 4,
 "nbformat_minor": 5
}
