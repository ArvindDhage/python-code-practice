{
 "cells": [
  {
   "cell_type": "code",
   "execution_count": 1,
   "id": "b6f96d01-f35c-4f32-8115-c4ecde78cc8c",
   "metadata": {},
   "outputs": [
    {
     "name": "stdin",
     "output_type": "stream",
     "text": [
      "Enter your name Arvind dhage \n"
     ]
    },
    {
     "name": "stdout",
     "output_type": "stream",
     "text": [
      "Arvind dhage \n",
      "Arvind dhage \n",
      "Arvind dhage \n",
      "Arvind dhage \n",
      "Arvind dhage \n",
      "Arvind dhage \n",
      "Arvind dhage \n",
      "Arvind dhage \n",
      "Arvind dhage \n",
      "Arvind dhage \n",
      "Arvind dhage \n"
     ]
    }
   ],
   "source": [
    "#print my name 10 time \n",
    "''' syntax \n",
    "while condation:\n",
    "    statment '''\n",
    "\n",
    "name= input(\"Enter your name\")\n",
    "x=0\n",
    "while x<=10:\n",
    "    print(name)\n",
    "    x=x+1"
   ]
  },
  {
   "cell_type": "code",
   "execution_count": 2,
   "id": "05c7c47f-e5ae-4095-bded-f68a75a55085",
   "metadata": {},
   "outputs": [
    {
     "name": "stdout",
     "output_type": "stream",
     "text": [
      "1\n",
      "2\n",
      "3\n",
      "4\n",
      "5\n",
      "6\n",
      "7\n",
      "8\n",
      "9\n",
      "10\n"
     ]
    }
   ],
   "source": [
    "x=1\n",
    "while x<=10:\n",
    "    print(x)\n",
    "    x=x+1\n",
    "    \n"
   ]
  },
  {
   "cell_type": "code",
   "execution_count": null,
   "id": "7b548da1-2877-4902-b1d1-acafc84f7275",
   "metadata": {},
   "outputs": [],
   "source": []
  }
 ],
 "metadata": {
  "kernelspec": {
   "display_name": "Python 3 (ipykernel)",
   "language": "python",
   "name": "python3"
  },
  "language_info": {
   "codemirror_mode": {
    "name": "ipython",
    "version": 3
   },
   "file_extension": ".py",
   "mimetype": "text/x-python",
   "name": "python",
   "nbconvert_exporter": "python",
   "pygments_lexer": "ipython3",
   "version": "3.10.16"
  }
 },
 "nbformat": 4,
 "nbformat_minor": 5
}
