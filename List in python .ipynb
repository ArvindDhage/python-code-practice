{
 "cells": [
  {
   "cell_type": "code",
   "execution_count": 3,
   "id": "e229fe1a-ca1a-4321-8836-836c6548d36d",
   "metadata": {},
   "outputs": [
    {
     "data": {
      "text/plain": [
       "list"
      ]
     },
     "execution_count": 3,
     "metadata": {},
     "output_type": "execute_result"
    }
   ],
   "source": [
    "#creating list \n",
    "a=[]\n",
    "type(a)"
   ]
  },
  {
   "cell_type": "code",
   "execution_count": null,
   "id": "8170ff0b-357b-4665-afc1-7ffa41715f88",
   "metadata": {},
   "outputs": [],
   "source": [
    "List Data type with Interview Questions\n",
    "In Python, lists are versatile data structures that allow you to store a sequence of items under a single variable name. These items can be of different types, including integers, strings, or even other lists. This capability makes lists incredibly powerful for various programming tasks, from simple data aggregation to complex algorithms."
   ]
  },
  {
   "cell_type": "code",
   "execution_count": null,
   "id": "370eadfe-f303-4e39-9a41-ac48c4878d25",
   "metadata": {},
   "outputs": [],
   "source": [
    "What is a List in Python?\n",
    "A list in Python is defined as an ordered collection of items that can be changed after its creation (mutable). Lists are defined by enclosing a comma-separated sequence of items in square brackets []. Here’s an example:\n",
    "\n",
    "example_list = [1, \"example\", 3.14, [1, 2, 3]]"
   ]
  },
  {
   "cell_type": "code",
   "execution_count": null,
   "id": "518d0bd0-eaec-4388-b7da-658c7e46a196",
   "metadata": {},
   "outputs": [],
   "source": [
    "Properties of Python Lists\n",
    "Ordered: The order in which you enter items is preserved, and you can use indices to access elements accordingly.\n",
    "Mutable: You can modify a list after its creation. This includes adding, removing, or changing items.\n",
    "Dynamic: Python lists can dynamically adjust their size according to the elements they are storing.\n",
    "Heterogeneous: Lists can store items of different data types in a single list."
   ]
  },
  {
   "cell_type": "code",
   "execution_count": null,
   "id": "4c8a35e8-9429-4a94-a0a1-2db392eb1ca8",
   "metadata": {},
   "outputs": [],
   "source": [
    "Syntax of Lists\n",
    "Creating a list is straightforward. You can initialize an empty list or a pre-populated list using the following syntax:\n",
    "\n",
    "empty_list = []\n",
    "prepopulated_list = [1, 'a', 3.14]"
   ]
  },
  {
   "cell_type": "code",
   "execution_count": null,
   "id": "3e2cb093-319d-409e-9924-a0ec5e8be910",
   "metadata": {},
   "outputs": [],
   "source": [
    "Advantages of Using Lists\n",
    "Flexibility: Lists can store elements of various data types, including other lists, which allows for complex data structures like matrices.\n",
    "Dynamic Sizing: Unlike arrays in other languages, Python lists aren’t fixed in size. You can add or remove items from lists dynamically.\n",
    "Ease of Use: Python provides numerous built-in methods to perform operations on lists, such as adding elements (append(), extend()), removing elements (pop(), remove()), and many others like sort(), reverse(), etc.\n",
    "Slicing: Python lists support slicing to fetch specific ranges of elements, which is very convenient for various applications."
   ]
  },
  {
   "cell_type": "code",
   "execution_count": null,
   "id": "a29f1a83-40aa-4830-98da-ef3cdc86afd0",
   "metadata": {},
   "outputs": [],
   "source": [
    "Disadvantages of Using Lists\n",
    "Performance: Lists are not the most performance-efficient data structure available in Python, especially for large datasets. Operations like searching for an element can be slower compared to other data structures like dictionaries or sets due to their inherent nature of sequential storage.\n",
    "Memory Usage: Due to their dynamic nature, lists consume more memory. This overhead comes from the need to store additional information to handle the dynamic resizing.\n",
    "Type Safety: Since lists can store any type of object, you might introduce bugs if elements of different types are not handled correctly."
   ]
  },
  {
   "cell_type": "code",
   "execution_count": 4,
   "id": "33ce846f-ca77-4a3b-877b-91431e702224",
   "metadata": {},
   "outputs": [
    {
     "name": "stdout",
     "output_type": "stream",
     "text": [
      "['arvind', 10, 20, 30, 40, 'M']\n"
     ]
    }
   ],
   "source": [
    "#Addiding the data into list\n",
    "a=[\"arvind\",10,20,30,40,\"M\"]\n",
    "print(a)"
   ]
  },
  {
   "cell_type": "code",
   "execution_count": 6,
   "id": "191ba1b3-365c-4ffd-9236-cd8e5c1c3178",
   "metadata": {},
   "outputs": [
    {
     "name": "stdout",
     "output_type": "stream",
     "text": [
      "arvind\n"
     ]
    }
   ],
   "source": [
    "#indexing in list \n",
    "student=['arvind',20,'m','python']\n",
    "print(student[0])\n"
   ]
  },
  {
   "cell_type": "code",
   "execution_count": 7,
   "id": "3270fc86-869c-4add-9df8-95852db0a867",
   "metadata": {},
   "outputs": [
    {
     "name": "stdout",
     "output_type": "stream",
     "text": [
      "[20]\n"
     ]
    }
   ],
   "source": [
    "#slicing\n",
    "''' start \n",
    "    stop \n",
    "    step'''\n",
    "student=['arvind',20,'m','python']\n",
    "print(student[1:3:2])"
   ]
  },
  {
   "cell_type": "code",
   "execution_count": 9,
   "id": "f2d07cd7-176f-4b0e-a667-9ebf2f1006c4",
   "metadata": {},
   "outputs": [
    {
     "name": "stdout",
     "output_type": "stream",
     "text": [
      "[2, 4, 6, 8]\n"
     ]
    }
   ],
   "source": [
    "#slicing\n",
    "number=[1,2,3,4,5,6,7,8]\n",
    "print(number[1:8:2])"
   ]
  },
  {
   "cell_type": "code",
   "execution_count": 15,
   "id": "a139e1c2-b0ec-4e30-956c-8bd714270494",
   "metadata": {},
   "outputs": [
    {
     "name": "stdout",
     "output_type": "stream",
     "text": [
      "range(0, 10, 2)\n"
     ]
    }
   ],
   "source": [
    "#RANGE\n",
    "#range9start,stop,syep \n",
    "\n",
    "a= list(range(0,10,2))\n",
    "print(a)\n"
   ]
  },
  {
   "cell_type": "code",
   "execution_count": 2,
   "id": "8cd2c09e-fe27-4b4b-8673-9b8dbc4fc89c",
   "metadata": {},
   "outputs": [
    {
     "name": "stdout",
     "output_type": "stream",
     "text": [
      "[0, 2, 4, 6, 8]\n"
     ]
    }
   ],
   "source": [
    "a = list(range(0, 10, 2))\n",
    "print(a)"
   ]
  },
  {
   "cell_type": "code",
   "execution_count": 4,
   "id": "e4ae0de5-06ff-4042-b37f-251cf00c87ce",
   "metadata": {},
   "outputs": [
    {
     "name": "stdout",
     "output_type": "stream",
     "text": [
      "[1, 3]\n",
      "1\n",
      "3\n"
     ]
    }
   ],
   "source": [
    "#LIST CREAT USING FOR LOOP AND RANGE FNCTION \n",
    "a = list(range(1,5,2))\n",
    "b=list(a)\n",
    "print(b)\n",
    "for i in a:\n",
    "    print(i)"
   ]
  },
  {
   "cell_type": "markdown",
   "id": "2cfac580-7a98-4ab2-9f70-2a63c4e55c48",
   "metadata": {},
   "source": [
    "#operation in list \n",
    "1-append\n",
    "2-update\n",
    "3-delete\n"
   ]
  },
  {
   "cell_type": "code",
   "execution_count": 5,
   "id": "b307df2c-73b1-40e3-8a53-dabfd518ed16",
   "metadata": {},
   "outputs": [
    {
     "name": "stdout",
     "output_type": "stream",
     "text": [
      "[1, 2, 3, 4, 5, 6, 7]\n"
     ]
    }
   ],
   "source": [
    "#append\n",
    "a=[1,2,3,4,5,6]\n",
    "a.append(7)\n",
    "print(a)"
   ]
  },
  {
   "cell_type": "code",
   "execution_count": 6,
   "id": "0042e359-3f72-4efc-9874-47b083211a9d",
   "metadata": {},
   "outputs": [
    {
     "name": "stdout",
     "output_type": "stream",
     "text": [
      "['java', 1992, 'js', 10.45]\n"
     ]
    }
   ],
   "source": [
    "#update\n",
    "a=['python',1992,'js',10.45]\n",
    "a[0]='java'\n",
    "print(a)"
   ]
  },
  {
   "cell_type": "code",
   "execution_count": 2,
   "id": "6c9635b7-0110-4d4c-8b22-06b3a2fbb9a4",
   "metadata": {},
   "outputs": [
    {
     "name": "stdout",
     "output_type": "stream",
     "text": [
      "['apple', 'cherry']\n"
     ]
    }
   ],
   "source": [
    "#delet method\n",
    "thislist = [\"apple\", \"banana\", \"cherry\"]\n",
    "del thislist[1]  # Use square brackets to specify the index\n",
    "print(thislist)"
   ]
  },
  {
   "cell_type": "code",
   "execution_count": 3,
   "id": "9a57998e-7e26-474f-b318-2b8a710cccbe",
   "metadata": {},
   "outputs": [
    {
     "name": "stdout",
     "output_type": "stream",
     "text": [
      "[5, 4, 3, 2, 1]\n"
     ]
    }
   ],
   "source": [
    "#reverse\n",
    "a=[1,2,3,4,5]\n",
    "a.reverse()\n",
    "print(a)"
   ]
  },
  {
   "cell_type": "code",
   "execution_count": null,
   "id": "4541a3b7-f268-4c94-9a48-d6d589ada0e8",
   "metadata": {},
   "outputs": [],
   "source": [
    "Common Operations on Lists\n",
    "Adding Elements: Use append() to add an item at the end of the list, or extend() to concatenate another list (or any iterable).\n",
    "Removing Elements: Use remove() to remove the first occurrence of an element, and pop() to remove an element by index.\n",
    "Sorting and Reversing: The sort() method sorts the list in place, while reverse() reverses the elements of the list in place."
   ]
  },
  {
   "cell_type": "code",
   "execution_count": null,
   "id": "81be3e3c-d187-4df8-aeaa-b7f8ff9ec3d6",
   "metadata": {},
   "outputs": [],
   "source": [
    "Advanced Features\n",
    "List Comprehensions: This is a concise way to create lists. The syntax consists of brackets containing an expression followed by a for clause.\n",
    "Nested Lists: Lists can contain other lists as their elements, which allows you to create matrix-like structures."
   ]
  },
  {
   "cell_type": "markdown",
   "id": "ddcfa3d9-9d58-473b-8efd-4f29dad56db6",
   "metadata": {},
   "source": [
    "Problem 1\n",
    "''' def a function\n",
    "5\n",
    "number 1=100\n",
    "number 2=100\n",
    "number 3=100\n",
    "number 4=100\n",
    "number 5=100\n",
    "\n",
    "sum=500\n",
    "'''\n"
   ]
  },
  {
   "cell_type": "code",
   "execution_count": 5,
   "id": "06faffc2-a323-4cc9-ae16-8926a32b5248",
   "metadata": {},
   "outputs": [
    {
     "name": "stdin",
     "output_type": "stream",
     "text": [
      "Enter how many number you want = 3\n",
      "Enter element 0= 20\n",
      "Enter element 1= 30\n",
      "Enter element 2= 40\n"
     ]
    },
    {
     "name": "stdout",
     "output_type": "stream",
     "text": [
      "{'Total is ': 20}\n"
     ]
    }
   ],
   "source": [
    "def sum():\n",
    "    lst=[]\n",
    "    user=int(input(\"Enter how many number you want =\"))\n",
    "    for i in range(user):\n",
    "        choice=int(input(f'Enter element {i}='))\n",
    "        lst.append(choice)\n",
    "    total=0\n",
    "    for i in range(len(lst)):\n",
    "        total=total+lst[i]\n",
    "        return{\"Total is \":total}\n",
    "s=sum()\n",
    "print(s)\n"
   ]
  },
  {
   "cell_type": "markdown",
   "id": "bf3e5a2c-9401-404e-a89f-13ccec4e29f2",
   "metadata": {},
   "source": [
    "Problem 2\n",
    "[1,2,3,4,5]\n",
    "max=\n",
    "min=\n"
   ]
  },
  {
   "cell_type": "code",
   "execution_count": 8,
   "id": "f7ec1102-5f8e-4654-9b96-676036b3312b",
   "metadata": {},
   "outputs": [
    {
     "name": "stdin",
     "output_type": "stream",
     "text": [
      "Enter how many no .off list you want= 5\n",
      "Enter number0= 100\n"
     ]
    },
    {
     "name": "stdout",
     "output_type": "stream",
     "text": [
      "Maximum value is = 100\n",
      "minimum value is = 100\n"
     ]
    },
    {
     "name": "stdin",
     "output_type": "stream",
     "text": [
      "Enter number1= 200\n"
     ]
    },
    {
     "name": "stdout",
     "output_type": "stream",
     "text": [
      "Maximum value is = 200\n",
      "minimum value is = 100\n"
     ]
    },
    {
     "name": "stdin",
     "output_type": "stream",
     "text": [
      "Enter number2= 3000\n"
     ]
    },
    {
     "name": "stdout",
     "output_type": "stream",
     "text": [
      "Maximum value is = 3000\n",
      "minimum value is = 100\n"
     ]
    },
    {
     "name": "stdin",
     "output_type": "stream",
     "text": [
      "Enter number3= 4000\n"
     ]
    },
    {
     "name": "stdout",
     "output_type": "stream",
     "text": [
      "Maximum value is = 4000\n",
      "minimum value is = 100\n"
     ]
    },
    {
     "name": "stdin",
     "output_type": "stream",
     "text": [
      "Enter number4= 500\n"
     ]
    },
    {
     "name": "stdout",
     "output_type": "stream",
     "text": [
      "Maximum value is = 4000\n",
      "minimum value is = 100\n"
     ]
    }
   ],
   "source": [
    "def value():\n",
    "    lst=[]\n",
    "    user=int(input(\"Enter how many no .off list you want=\"))\n",
    "    for i in range(user):\n",
    "        add=int(input(f\"Enter number{i}=\"))\n",
    "        lst.append(add)\n",
    "        print(lst)\n",
    "        maximum=max(lst)\n",
    "        print(\"Maximum value is =\",maximum)\n",
    "\n",
    "        minimum=min(lst)\n",
    "        print(\"minimum value is =\",minimum)\n",
    "value()"
   ]
  },
  {
   "cell_type": "markdown",
   "id": "cb3f7737-a645-4efc-9f37-9a05a4eca083",
   "metadata": {},
   "source": [
    "creat a two list \n",
    "[1,2,3,4,5]\n",
    "[1,2,6,7,8]\n",
    "[1,2]\n",
    "find comman element \n"
   ]
  },
  {
   "cell_type": "code",
   "execution_count": 11,
   "id": "b5daf237-6f9b-483a-b107-e02fd663408b",
   "metadata": {},
   "outputs": [
    {
     "name": "stdout",
     "output_type": "stream",
     "text": [
      "{1, 2}\n"
     ]
    }
   ],
   "source": [
    "def common():\n",
    "    s1 = [1, 2, 3, 4, 5]\n",
    "    s2 = [1, 2, 6, 7, 8]\n",
    "    \n",
    "    lst_1 = set(s1)\n",
    "    lst_2 = set(s2)\n",
    "\n",
    "    unique_ele = lst_1.intersection(lst_2)  # Fixed indentation\n",
    "    print(unique_ele)\n",
    "\n",
    "common()"
   ]
  },
  {
   "cell_type": "code",
   "execution_count": null,
   "id": "c55c8e67-53f9-4b1e-bf8b-9e093b578fe4",
   "metadata": {},
   "outputs": [],
   "source": []
  }
 ],
 "metadata": {
  "kernelspec": {
   "display_name": "Python 3 (ipykernel)",
   "language": "python",
   "name": "python3"
  },
  "language_info": {
   "codemirror_mode": {
    "name": "ipython",
    "version": 3
   },
   "file_extension": ".py",
   "mimetype": "text/x-python",
   "name": "python",
   "nbconvert_exporter": "python",
   "pygments_lexer": "ipython3",
   "version": "3.8.19"
  }
 },
 "nbformat": 4,
 "nbformat_minor": 5
}
